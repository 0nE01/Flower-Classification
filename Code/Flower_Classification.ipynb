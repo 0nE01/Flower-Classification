{
  "cells": [
    {
      "cell_type": "code",
      "source": [
        "!pip install torchmetrics"
      ],
      "metadata": {
        "id": "95ULTTDfGm4i"
      },
      "execution_count": null,
      "outputs": []
    },
    {
      "cell_type": "code",
      "execution_count": 10,
      "metadata": {
        "id": "I8JQLJc7uksg"
      },
      "outputs": [],
      "source": [
        "# Import Modules.\n",
        "import zipfile\n",
        "import torch\n",
        "from torch import nn\n",
        "from torch import optim\n",
        "import torchvision\n",
        "from torchvision import datasets\n",
        "from torchvision import transforms\n",
        "from torch.utils.data.dataloader import DataLoader\n",
        "from torchvision.datasets import ImageFolder\n",
        "from torchvision import models\n",
        "import matplotlib.pyplot as plt\n",
        "from sklearn.metrics import accuracy_score\n",
        "from PIL import Image\n",
        "from torchmetrics import ConfusionMatrix\n",
        "from mlxtend.plotting import plot_confusion_matrix\n",
        "import random\n",
        "from pathlib import Path"
      ]
    },
    {
      "cell_type": "code",
      "source": [
        "# You can use this to load the model in github\n",
        "# torch.load(f=\"Path/to/model\")"
      ],
      "metadata": {
        "id": "_WFw2bq8Pjre"
      },
      "execution_count": null,
      "outputs": []
    },
    {
      "cell_type": "code",
      "execution_count": null,
      "metadata": {
        "id": "NO24xvwCvSUD"
      },
      "outputs": [],
      "source": [
        "# Set device and seed.\n",
        "device = \"cuda\" if torch.cuda.is_available else \"cpu\"\n",
        "torch.manual_seed(42)"
      ]
    },
    {
      "cell_type": "code",
      "execution_count": null,
      "metadata": {
        "id": "7zBACjXRvxPG"
      },
      "outputs": [],
      "source": [
        "# Download and freeze model.\n",
        "weights = models.ConvNeXt_Tiny_Weights.IMAGENET1K_V1\n",
        "model = models.convnext_tiny(weights=weights).to(device)\n",
        "\n",
        "for param in model.features.parameters():\n",
        "  param.requires_grad = False\n",
        "# Get transforms for our model.\n",
        "transform = weights.transforms()"
      ]
    },
    {
      "cell_type": "code",
      "execution_count": null,
      "metadata": {
        "id": "4H4EAouTvPEX"
      },
      "outputs": [],
      "source": [
        "# Create dataset objects.\n",
        "trian_dataset = datasets.ImageFolder(\n",
        "    root = \"Path/to/dataset/train data\",\n",
        "    transform=transform,\n",
        ")\n",
        "\n",
        "test_dataset = datasets.ImageFolder(\n",
        "    root = \"Path/to/dataset/test data\",\n",
        "    transform=transform,\n",
        ")\n"
      ]
    },
    {
      "cell_type": "code",
      "execution_count": 21,
      "metadata": {
        "id": "mLeWfWNNxH5J"
      },
      "outputs": [],
      "source": [
        "# Create dataloaders\n",
        "trian_dataloader = DataLoader(\n",
        "    trian_dataset,\n",
        "    shuffle = True,\n",
        "    batch_size = 32\n",
        ")\n",
        "\n",
        "test_dataloader = DataLoader(\n",
        "    test_dataset,\n",
        "    shuffle = False,\n",
        "    batch_size = 32\n",
        ")\n"
      ]
    },
    {
      "cell_type": "code",
      "execution_count": 6,
      "metadata": {
        "id": "bu1tr4l13_z5"
      },
      "outputs": [],
      "source": [
        "# Loss function and optimizer.\n",
        "loss_fn = nn.CrossEntropyLoss()\n",
        "optimizer = torch.optim.SGD(model.parameters(),lr=0.01)"
      ]
    },
    {
      "cell_type": "code",
      "execution_count": 7,
      "metadata": {
        "id": "7hnZp1Ooxk3O"
      },
      "outputs": [],
      "source": [
        "# Training/Testing loop\n",
        "total_loss = 0\n",
        "total_test_loss = 0\n",
        "total_acc = 0\n",
        "\n",
        "for epoch in range(20):\n",
        "  for X,Y in trian_dataloader:\n",
        "    X,Y = X.to(device), Y.to(device)\n",
        "    model.train()\n",
        "    result = model(X)\n",
        "    loss = loss_fn(result,Y)\n",
        "    total_loss += loss\n",
        "    optimizer.zero_grad()\n",
        "    loss.backward()\n",
        "    optimizer.step()\n",
        "  total_loss /= len(trian_dataloader)\n",
        "\n",
        "  model.eval()\n",
        "  with torch.inference_mode():\n",
        "    for test_X,test_Y in test_dataloader:\n",
        "      test_X,test_Y = test_X.to(device), test_Y.to(device)\n",
        "      test_result = model(test_X)\n",
        "      test_loss = loss_fn(test_result,test_Y)\n",
        "      total_test_loss += test_loss\n",
        "      total_acc += accuracy_score(test_Y.cpu(),torch.softmax(test_result,dim=1).argmax(dim=1).cpu())\n",
        "    total_test_loss /= len(test_dataloader)\n",
        "    total_acc /= len(test_dataloader)\n",
        "  print(f\"epoch: {epoch} | train loss {total_loss} | test loss {total_test_loss} acc | {total_acc}\")"
      ]
    }
  ],
  "metadata": {
    "accelerator": "GPU",
    "colab": {
      "gpuType": "T4",
      "provenance": []
    },
    "kernelspec": {
      "display_name": "Python 3",
      "name": "python3"
    },
    "language_info": {
      "name": "python"
    }
  },
  "nbformat": 4,
  "nbformat_minor": 0
}